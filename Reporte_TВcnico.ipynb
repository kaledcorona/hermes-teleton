{
  "nbformat": 4,
  "nbformat_minor": 0,
  "metadata": {
    "colab": {
      "name": "Reporte_Técnico.ipynb",
      "provenance": [],
      "collapsed_sections": [
        "uOaHG0jTt3C8",
        "S6xPqnKzvsOY",
        "1U5nssUlDHmv"
      ]
    },
    "kernelspec": {
      "name": "python3",
      "display_name": "Python 3"
    },
    "language_info": {
      "name": "python"
    }
  },
  "cells": [
    {
      "cell_type": "markdown",
      "source": [
        "# Reporte Técnico"
      ],
      "metadata": {
        "id": "uOaHG0jTt3C8"
      }
    },
    {
      "cell_type": "markdown",
      "source": [
        "En este reporte se detallará el funcionamiento del código realizado para el esquema de firma digital implementado en la solución de este reto. "
      ],
      "metadata": {
        "id": "m5x5qqJ3uDHJ"
      }
    },
    {
      "cell_type": "markdown",
      "source": [
        "# Librerías y archivos"
      ],
      "metadata": {
        "id": "_m5BpN__ucqX"
      }
    },
    {
      "cell_type": "markdown",
      "source": [
        "Es importante destacar que esta aplicación web está construida a través de Python, por lo que para el correcto funcionamiento de esta, es necesario contar con las librerías **flask**, **flask-login**, **flask-sqlalchemy**, **hashlib**, **json**, **binascii**, **sqlite3**, **pycryptodome** y **werkzeug**. También, se debe contar con las carpetas para los templates .html y los recursos de estas en el mismo directorio que los archivos .py."
      ],
      "metadata": {
        "id": "gT5CLL_1ufg4"
      }
    },
    {
      "cell_type": "markdown",
      "source": [
        "# Python"
      ],
      "metadata": {
        "id": "S6xPqnKzvsOY"
      }
    },
    {
      "cell_type": "markdown",
      "source": [
        "Primeramente, se cuenta con un archivo .py:\n",
        "\n",
        "\n",
        "*   **App.py**. En este archivo se encuentra el funcionamiento principal de la aplicación. Es el encargado de hechar a andar el servidor y de crear las funciones y rutas para realizar las operaciones deseadas. \n",
        "\n",
        "\n",
        "\n"
      ],
      "metadata": {
        "id": "kdvPD8nbwEYi"
      }
    },
    {
      "cell_type": "markdown",
      "source": [
        "# forms.py"
      ],
      "metadata": {
        "id": "1U5nssUlDHmv"
      }
    },
    {
      "cell_type": "markdown",
      "source": [
        "Este archivo se puede implementar para definir las clases correspondientes de la información que recibirán los formularios que se manejarán en la aplicación, como el de inicio de sesión, registro y firma/verificación, si así se desea, pero la información se puede manejar directamente desde los métodos request de Flask."
      ],
      "metadata": {
        "id": "BOFzylhlDJ8n"
      }
    },
    {
      "cell_type": "code",
      "source": [
        "from flask_wtf import FlaskForm\n",
        "from wtforms import StringField, SubmitField, PasswordField, BooleanField\n",
        "from wtforms.validators import DataRequired, Length, InputRequired, EqualTo\n",
        "\n",
        "#### Formularios para el registro de usuarios ####\n",
        "class SignupForm(FlaskForm):\n",
        "    usuario = StringField('Usuario', validators=[DataRequired(), Length(max=64)])\n",
        "    contraseña = PasswordField('Contraseña', validators=[InputRequired(), EqualTo('confirmar',message='Las contraseñas deben coincidir')])\n",
        "    confirmar = PasswordField('Confirmar contraseña') \n",
        "    ID = StringField('ID', validators=[DataRequired(),  Length(min=11,max=11)])\n",
        "    departamento = StringField('Departamento', validators=[DataRequired(), Length(max=64)])\n",
        "    submit = SubmitField('Registrar')\n",
        "\n",
        "#### Formularios para el inicio de sesión ####\n",
        "class LoginForm(FlaskForm):\n",
        "    ID = StringField('ID:', validators=[DataRequired(), Length(min=11,max=11)])\n",
        "    contraseña  = PasswordField('Contraseña:', validators=[DataRequired()])\n",
        "    remember_me = BooleanField('Recuérdame')\n",
        "    entrar = SubmitField('Entrar')# -*- coding: utf-8 -*-\n",
        "\n",
        "#### Formularios para le firma/verificación ####\n",
        "class SignatureForm(FlaskForm):\n",
        "    contraseña  = PasswordField('Contraseña:', validators=[DataRequired()])\n",
        "    subir = SubmitField('Subir')"
      ],
      "metadata": {
        "id": "ICSQwtVWDutc"
      },
      "execution_count": null,
      "outputs": []
    },
    {
      "cell_type": "markdown",
      "source": [
        "# App.py"
      ],
      "metadata": {
        "id": "jc3Th5f6xPn2"
      }
    },
    {
      "cell_type": "markdown",
      "source": [
        "Primeramente se cargan los paquetes necesarios de cada librería."
      ],
      "metadata": {
        "id": "hLnQG-b9xXf7"
      }
    },
    {
      "cell_type": "code",
      "source": [
        "from flask import Flask, render_template, request, redirect, url_for, flash, session\n",
        "from flask_login import LoginManager, login_user, current_user, logout_user, login_required\n",
        "from flask_sqlalchemy import SQLAlchemy\n",
        "\n",
        "from flask_login import UserMixin\n",
        "from werkzeug.security import generate_password_hash, check_password_hash\n",
        "\n",
        "from forms import SignupForm, LoginForm, SignatureForm\n",
        "from werkzeug.urls import url_parse\n",
        "from werkzeug.utils import secure_filename\n",
        "\n",
        "import hashlib\n",
        "import json\n",
        "import binascii\n",
        "import sqlite3\n",
        "\n",
        "from Crypto.PublicKey import RSA"
      ],
      "metadata": {
        "id": "MYUzwa_FxTHF"
      },
      "execution_count": null,
      "outputs": []
    },
    {
      "cell_type": "markdown",
      "source": [
        "Después, se configuran los parámetros de la aplicación a través de flask."
      ],
      "metadata": {
        "id": "I7cdokzPxena"
      }
    },
    {
      "cell_type": "code",
      "source": [
        "app = Flask(__name__)\n",
        "app.config['SECRET_KEY'] = '!b8^cw1u#6gg)=yj7=x1(^8(z4-9holmnsz%alvf%jd^2&v4d=' #Llave secreta para la sesión\n",
        "app.config['SQLALCHEMY_DATABASE_URI'] = 'sqlite:///database2.db' #Conexión con la base de datos. \n",
        "app.config['SQLALCHEMY_TRACK_MODIFICATIONS'] = False\n",
        "\n",
        "login_manager = LoginManager(app)\n",
        "login_manager.login_view = \"login\" #Configuración para el inicio de sesión\n",
        "\n",
        "db = SQLAlchemy(app) # Instancia a la que se llamará al crear la clase para el usuario y el tipo de información que contiene"
      ],
      "metadata": {
        "id": "HPBDrSbdxmvk"
      },
      "execution_count": null,
      "outputs": []
    },
    {
      "cell_type": "markdown",
      "source": [
        "Cabe destacar que en este ejemplo se está haciendo una conexión a una base de datos sqlite hosteada localmente, pero SQLAlchemy puede hacer la conexión a cualquier base de datos (MySQL, Postres, Oracle, etc.). A continuación, se define la clase para el usuario, los atributos que cada instancia contenerá y los métodos que puede usar."
      ],
      "metadata": {
        "id": "8K23V1bVydsT"
      }
    },
    {
      "cell_type": "code",
      "source": [
        "class User(db.Model, UserMixin):\n",
        "    __tablename__ = 'usuarios_sistema' #nombre de la tabla en la base de datos\n",
        "\n",
        "    ################ Atributos de la clase  ################\n",
        "    id = db.Column(db.Integer, primary_key=True)\n",
        "    usuario = db.Column(db.String(80), nullable=False)\n",
        "    id_per = db.Column(db.String(256), unique=True, nullable=False)\n",
        "    contraseña = db.Column(db.String(128), nullable=False)\n",
        "    departamento = db.Column(db.String(80), nullable=False)\n",
        "    n = db.Column(db.String, nullable=False)\n",
        "    e_public = db.Column(db.String, nullable=False)\n",
        "    d_priv = db.Column(db.String, nullable=False) \n",
        "    \n",
        "    def __repr__(self):\n",
        "        return f'<User {self.id_per}>'\n",
        "    \n",
        "    ################ Guarda la contraseña hasheada para el usuario  ################\n",
        "    def set_password(self, contraseña):\n",
        "        self.contraseña = generate_password_hash(contraseña)\n",
        "        \n",
        "    ################ Revisa si la contraseña recibida y la del usuario coinciden  ################\n",
        "    def check_password(self, contraseña):\n",
        "        return check_password_hash(self.contraseña, contraseña)\n",
        "    \n",
        "    ##### Guardar los datos de cada usuario en la base de datos #####\n",
        "    def save(self):\n",
        "        if not self.id:\n",
        "            db.session.add(self)\n",
        "        db.session.commit()\n",
        "    \n",
        "    #### Recupera el id asignado a cada usuario dentro de la base de datos ####\n",
        "    @staticmethod\n",
        "    def get_by_id(id):\n",
        "        return User.query.get(id)\n",
        "    \n",
        "    #### Recupera el id personal del usuario (Número de seguro social) ####\n",
        "    @staticmethod\n",
        "    def get_by_ID(id_per):\n",
        "        return User.query.filter_by(id_per=id_per).first()\n",
        "    \n",
        "    #### Recupera el usuario (username) del usuario ####\n",
        "    @staticmethod\n",
        "    def get_by_usuario(usuario):\n",
        "        return User.query.filter_by(usuario=usuario).first()\n",
        "\n",
        "db.create_all() #Genera la tabla bajo el nombre usuarios_sistema con las columnas especificadas"
      ],
      "metadata": {
        "id": "Im8u9epQzSVR"
      },
      "execution_count": null,
      "outputs": []
    },
    {
      "cell_type": "markdown",
      "source": [
        "Una vez se tiene definida la clase para cada usuario, definimos una función que nos ayudará a conectarnos a la base de datos para hacer los querys necesarios. Además, se crea otra función para para cargar al usuario y poder manejar los inicios de sesión."
      ],
      "metadata": {
        "id": "oRKpNheZ00vJ"
      }
    },
    {
      "cell_type": "code",
      "source": [
        "def get_db_connection():\n",
        "    conn = sqlite3.connect('database2.db')\n",
        "    conn.row_factory = sqlite3.Row\n",
        "    return conn\n",
        "\n",
        "@login_manager.user_loader\n",
        "def load_user(user_id):\n",
        "    return User.get_by_id(int(user_id))"
      ],
      "metadata": {
        "id": "FRL7nkub1Xxj"
      },
      "execution_count": null,
      "outputs": []
    },
    {
      "cell_type": "markdown",
      "source": [
        "A partir de este punto, se empiezan a generar las vistas y rutas para cada acción dentro de la aplicación. Para crear una nueva ruta, se utiliza \n",
        "\n",
        "```\n",
        "@app.route()\n",
        "```\n",
        "que recibe como parámetros el url deseado y los métodos que esta contendrá. Además, después de cada ruta se define una función que contendrá el funcionamiento de dicha ruta.\n"
      ],
      "metadata": {
        "id": "wmu0gps71dS8"
      }
    },
    {
      "cell_type": "markdown",
      "source": [
        "De esta forma, creamos la ruta principal de nuestra aplicación, que renderiza la información y los campos requeridos para hacer el inicio de sesión contenidos en index.html. Para esta vista, en caso de que haya una sesión activa se redirecciona inmediatamente a la página con el menu para realizar las operaciones deseadas. En caso de que el usuario haya intentado acceder a una vista protegida sin tener una sesión, se le redirecciona a esta pagina. Si no es ninguno de los casos anteriores, una vez se valida la información de inicio de sesión se redirecciona al menu."
      ],
      "metadata": {
        "id": "EQjhnRZu2Kdo"
      }
    },
    {
      "cell_type": "code",
      "source": [
        "@app.route('/',methods=['GET', 'POST'])\n",
        "def login():\n",
        "    if current_user.is_authenticated:\n",
        "        return redirect(url_for('menu'))\n",
        "    \n",
        "    if request.method == 'POST':\n",
        "        user = User.get_by_ID(request.form['user'])\n",
        "        if user is not None and user.check_password(request.form['password']):\n",
        "            login_user(user, remember=request.form['remember'])\n",
        "            next_page = request.args.get('next')\n",
        "            \n",
        "            if not next_page or url_parse(next_page).netloc != '':\n",
        "                next_page = url_for('menu')\n",
        "            return redirect(next_page)\n",
        "    return render_template('index.html')"
      ],
      "metadata": {
        "id": "pvK5vbQS2uV0"
      },
      "execution_count": null,
      "outputs": []
    },
    {
      "cell_type": "markdown",
      "source": [
        "La siguiente ruta es para el caso en que no se cuente con un usuario y se desee registrar uno nuevo. Al igual que en la ruta anterior, si se cuenta con inicio de sesión activo se redirecciona inmediatamente a la pagina del menu. Esta ruta simplemente valida la información recibida y la inseerta dentro de la tabla que lleva el registro para cada usuario. Además, es en este momento en que se generar las llaves bajo el esquema de firma digital de RSA para cada usuario."
      ],
      "metadata": {
        "id": "01dDZUNz3Tiw"
      }
    },
    {
      "cell_type": "code",
      "source": [
        "@app.route(\"/signup/\", methods=[\"GET\", \"POST\"])\n",
        "def show_signup_form():\n",
        "    if current_user.is_authenticated:\n",
        "        return redirect(url_for('firmar'))\n",
        "    \n",
        "    error = None\n",
        "    \n",
        "    if request.method == 'POST':\n",
        "        usuario = request.form['user']\n",
        "        ID = request.form['userID']\n",
        "        departamento = request.form['dpto']\n",
        "        contraseña = request.form['password']\n",
        "        \n",
        "        user = User.get_by_ID(ID)\n",
        "        usern = User.get_by_usuario(usuario)\n",
        "        \n",
        "        if user is not None:\n",
        "            error = f'El ID {ID} ya está siendo utilizado por otro usuario'\n",
        "            flash(error)\n",
        "        \n",
        "        elif usern is not None:\n",
        "            error = f'El nombre {usuario} ya está siendo utilizado por otro usuario'\n",
        "            flash(error)\n",
        "        else:\n",
        "            \n",
        "            \n",
        "            keyPair = RSA.generate(bits=1024)\n",
        "            \n",
        "            user = User(usuario=usuario,\n",
        "                        id_per=ID,\n",
        "                        departamento=departamento,\n",
        "                        n = str(keyPair.n),\n",
        "                        e_public = str(keyPair.e),\n",
        "                        d_priv = str(keyPair.d)\n",
        "                        )\n",
        "            \n",
        "            user.set_password(contraseña)\n",
        "            user.save()\n",
        "            \n",
        "            login_user(user,remember=True)\n",
        "            next_page = request.args.get('next', None)\n",
        "            if not next_page or url_parse(next_page).netloc != '':\n",
        "                next_page = url_for('menu')\n",
        "            return redirect(next_page)\n",
        "    return render_template(\"signup.html\")"
      ],
      "metadata": {
        "id": "Rq0Ffkn-3Zmr"
      },
      "execution_count": null,
      "outputs": []
    },
    {
      "cell_type": "markdown",
      "source": [
        "A continuación se crea la ruta en la que se desplegará toda la información pertinente a las operaciones que se deseen realizar a través de renderizar el archivo menu.html. Por default, se redirecciona a la ruta */menu/*, y utilizando los botones se redirecciona a la ruta deseada para cada operación."
      ],
      "metadata": {
        "id": "sUa6FjyN5Ltk"
      }
    },
    {
      "cell_type": "code",
      "source": [
        "@app.route(\"/menu/\", methods=[\"GET\", \"POST\"])\n",
        "@login_required\n",
        "def menu():\n",
        "    return render_template('menu.html')"
      ],
      "metadata": {
        "id": "J3CmRcfqrKgH"
      },
      "execution_count": null,
      "outputs": []
    },
    {
      "cell_type": "markdown",
      "source": [
        "Una vez se selecciona la operación a realizar (firmar o verificar), se redirige a las siguientes rutas cuyo funcionamiento se explica más adelante."
      ],
      "metadata": {
        "id": "stIXYfq7rJY4"
      }
    },
    {
      "cell_type": "code",
      "source": [
        "@app.route(\"/menu/firmar\", methods=[\"GET\", \"POST\"])\n",
        "@login_required\n",
        "def firmar():\n",
        "\n",
        "    if request.method == 'POST':\n",
        "        \n",
        "        user = User.get_by_ID(current_user.id_per)\n",
        "        \n",
        "        if user.check_password(request.form['gpsswd1']):\n",
        "            \n",
        "            if request.method == 'POST':\n",
        "                \n",
        "                doc = request.files['gfile']\n",
        "                ruta_archivo = './documentos_recibidos/'\n",
        "                doc.save(ruta_archivo+secure_filename(doc.filename))\n",
        "                \n",
        "                docRead = open(ruta_archivo+secure_filename(doc.filename),'rb').read().hex()\n",
        "                \n",
        "                doc_hash = hashlib.sha512(str(docRead).encode('utf-8')).hexdigest()\n",
        "                \n",
        "                doc_int = int.from_bytes( binascii.unhexlify(doc_hash),byteorder='big')\n",
        "                \n",
        "                \n",
        "                conn = get_db_connection()\n",
        "                cursor = conn.cursor()\n",
        "                data = cursor.execute('SELECT e_public, n, d_priv FROM usuarios_sistema WHERE id_per = (?)',(current_user.id_per,)).fetchall()\n",
        "                \n",
        "                e_public = data[0][0]\n",
        "                n = data[0][1]+'A'\n",
        "                d_priv = data[0][2]+'A'\n",
        "                \n",
        "                n_n = n[:-1]\n",
        "                d_priv_n = d_priv[:-1]\n",
        "                \n",
        "                \n",
        "                d_priv_int= int(d_priv_n)\n",
        "                n_int = int(n_n)\n",
        "                \n",
        "                firma = hex(pow(doc_int, d_priv_int, n_int))\n",
        "\n",
        "\n",
        "                doc_name = secure_filename(doc.filename)\n",
        "                \n",
        "                conn = get_db_connection()\n",
        "                cursor = conn.cursor()\n",
        "                cursor.execute('''\n",
        "                               INSERT INTO firmas (document_id,\n",
        "                                                   document_name,\n",
        "                                                   firma,\n",
        "                                                   id_per,\n",
        "                                                   usuario,\n",
        "                                                   e_public,\n",
        "                                                   n,\n",
        "                                                   d_priv\n",
        "                                                   )\n",
        "                               VALUES (?,?,?,?,?,?,?,?)\n",
        "                               ''',(doc_hash,doc_name,firma,current_user.id_per,current_user.usuario,e_public,n,d_priv))\n",
        "\n",
        "                conn.commit()\n",
        "                conn.close()\n",
        "                \n",
        "                next_page = request.args.get('next')\n",
        "\n",
        "                return redirect(url_for('exitoFirma'))\n",
        "    \n",
        "                if not next_page or url_parse(next_page).netloc != '':\n",
        "                    next_page = url_for('exitoFirma')\n",
        "                return redirect(next_page)\n",
        "\n",
        "    return render_template(url_for('menu'))"
      ],
      "metadata": {
        "id": "8WfP6tv05srw"
      },
      "execution_count": null,
      "outputs": []
    },
    {
      "cell_type": "markdown",
      "source": [
        "Dentro de esta ruta primeramente se valida la contraseña del usuario activo y el archivo que se desee firmar. Una vez se cuenta con el archivo, se guarda en alguna ruta deseada para posteriormente poder leer el archivo y hashearlo. Este se firma utilizando la llave privada del usuario en sesión a través del esquema RSA, para posteriormente almacenar la firma, el hasheo del archivo y la llave pública de quien hizo la firma. \n",
        "\n",
        "Ahora, se puede proceder a verificar qué archivos han sido firmados por quién esto a través de la siguiente ruta definida."
      ],
      "metadata": {
        "id": "RL3fyv5A61fn"
      }
    },
    {
      "cell_type": "code",
      "source": [
        "@app.route(\"/menu/verificar\", methods=[\"GET\", \"POST\"])\n",
        "@login_required\n",
        "def verificar():\n",
        "\n",
        "    if request.method == 'POST':\n",
        "        \n",
        "        user = User.get_by_ID(current_user.id_per)\n",
        "        \n",
        "        if user.check_password(request.form['gpsswd2']):\n",
        "            \n",
        "            if request.method == 'POST':\n",
        "                \n",
        "                doc = request.files['vfile']\n",
        "                ruta_archivo = './documentos_verificados/'\n",
        "                doc.save(ruta_archivo+secure_filename(doc.filename))\n",
        "                docRead = open(ruta_archivo+secure_filename(doc.filename),'rb').read().hex()\n",
        "                \n",
        "                doc_hash = hashlib.sha512(str(docRead).encode('utf-8')).hexdigest()\n",
        "                \n",
        "                doc_int = int.from_bytes(binascii.unhexlify(doc_hash),byteorder='big')\n",
        "\n",
        "\n",
        "                conn = get_db_connection()\n",
        "                cursor = conn.cursor()\n",
        "                data = cursor.execute('SELECT usuario, e_public, n, firma FROM firmas WHERE document_id = (?)',(doc_hash,)).fetchall()\n",
        "                conn.close()\n",
        "                \n",
        "                \n",
        "                llaves = {}\n",
        "                \n",
        "                ver_binary = 0\n",
        "                for fila in data:\n",
        "                    e = fila[1]\n",
        "\n",
        "                    n = fila[2]\n",
        "                    n_n = n[:-1]\n",
        "                \n",
        "                    llaves[fila[0]] = (e,n_n,fila[3])\n",
        "\n",
        "                    hashFromSignature = pow(int(fila[3],base=16), int(e), int(n_n))\n",
        "                    if hashFromSignature == doc_int:\n",
        "                        ver_binary = 1\n",
        "                    else:\n",
        "                        ver_binary = 0\n",
        "                        \n",
        "                if ver_binary == 1:\n",
        "                \n",
        "                    next_page = request.args.get('next')\n",
        "                    \n",
        "                    conn = get_db_connection()\n",
        "                    cursor = conn.cursor()\n",
        "                    quien_firmo = cursor.execute('SELECT usuario FROM firmas WHERE document_id = (?)',(doc_hash,)).fetchall()\n",
        "                    \n",
        "                    conn.close()\n",
        "                    \n",
        "                    usuarios_que_firmaron = []\n",
        "                    for i in quien_firmo:\n",
        "                        for j in i:\n",
        "                           usuarios_que_firmaron.append(j)\n",
        "                           \n",
        "                    usuarios_que_firmaron = json.dumps(usuarios_que_firmaron)\n",
        "                    session['usuarios_que_firmaron'] = usuarios_que_firmaron\n",
        "                    \n",
        "                    return redirect(url_for('exitoVerificacion',usuarios_que_firmaron=usuarios_que_firmaron))\n",
        "        \n",
        "                    if not next_page or url_parse(next_page).netloc != '':\n",
        "                        next_page = url_for('exitoVerificacion')\n",
        "                    return redirect(next_page)\n",
        "                else:\n",
        "                    \n",
        "                    next_page = request.args.get('next')\n",
        "\n",
        "                    return redirect(url_for('fracasoVerificacion'))\n",
        "        \n",
        "                    if not next_page or url_parse(next_page).netloc != '':\n",
        "                        next_page = url_for('fracasoVerificacion')\n",
        "                    return redirect(next_page)\n",
        "                    \n",
        "\n",
        "    return render_template(url_for(\"menu\"))"
      ],
      "metadata": {
        "id": "1xDv0vOQ8Zwh"
      },
      "execution_count": null,
      "outputs": []
    },
    {
      "cell_type": "markdown",
      "source": [
        "Para poder verificar los archivos, primeramente se realiza el mismo proceso de lectura y hasheo de la firma para el archivo cargado por el usuario. Una vez realizado esto, se hace un query en la tabla de *firmas* con base en el hash del archivo para buscar qué usuarios han firmado ese mismo documento. Una vez se han obtenido todas las firmas para ese mismo documento, se realiza el proceso de verificación para cada una de ellas, comparando el documento hasheado con el resultado de las operaciones RSA con las llaves públicas. Si todas las firmas son correctas, entonces se redirecciona a la ruta */verificacion_EXITOSA/* en la que se despliegan los usuarios que han firmado dicho documento; en caso de que alguna firma no coincida, se redirecciona a la ruta */verificacion_FALLIDA/* que indica que el documento no está firmado o no coincide alguna firma.\n",
        "\n",
        "Por último, cabe destacar que al igual que la ruta para firmar, esta es una vista protegida, por lo que el usuario no podrá acceder a ella a menos de que haya iniciado sesión."
      ],
      "metadata": {
        "id": "JVKKSzIk8-GV"
      }
    },
    {
      "cell_type": "markdown",
      "source": [
        "Con las rutas para verificar y firmar en mente, se definieron entonces las rutas ya mencionadas que desplegarán el estado de la acción, renderizando la vista correspondiente."
      ],
      "metadata": {
        "id": "orH8TgiMBI7I"
      }
    },
    {
      "cell_type": "code",
      "source": [
        "#### Ruta para saber que la firma fue exitosa ####\n",
        "@app.route(\"/firma_EXITOSA/\")\n",
        "def exitoFirma():\n",
        "    return render_template('firma_exitosa.html')\n",
        "\n",
        "#### Ruta para saber que se verificaron las firmas de algún documento ####\n",
        "@app.route(\"/verificacion_EXITOSA/\")\n",
        "def exitoVerificacion():\n",
        "    usuarios_que_firmaron = request.args['usuarios_que_firmaron']\n",
        "    usuarios_que_firmaron = session['usuarios_que_firmaron'] \n",
        "    return render_template('verificado.html',usuarios_que_firmaron=usuarios_que_firmaron)\n",
        "\n",
        "#### Ruta para saber que la verificación no fue correcta ####\n",
        "@app.route(\"/verificacion_FALLIDA/\")\n",
        "def fracasoVerificacion():\n",
        "    return render_template('verificación_fallida.html')"
      ],
      "metadata": {
        "id": "qFFlqTaS5aI7"
      },
      "execution_count": null,
      "outputs": []
    },
    {
      "cell_type": "markdown",
      "source": [
        "Después, se creó la ruta necesaria para poder cerrar sesión, utilizando las funciones implementadas de flask. Una vez se cierra sesión, se redirecciona al usuario a la pagina de inicio de sesión."
      ],
      "metadata": {
        "id": "jwiaA-HhBqDm"
      }
    },
    {
      "cell_type": "code",
      "source": [
        "@app.route('/logout')\n",
        "def logout():\n",
        "    logout_user()\n",
        "    return redirect(url_for('login'))"
      ],
      "metadata": {
        "id": "wtcINq2iCI_J"
      },
      "execution_count": null,
      "outputs": []
    },
    {
      "cell_type": "markdown",
      "source": [
        "Finalmente, incluimos la inicialización del servidor a través del puerto deseado"
      ],
      "metadata": {
        "id": "rur4pRImCsI9"
      }
    },
    {
      "cell_type": "code",
      "source": [
        "if __name__ == '__main__':\n",
        "    app.run(port = 3000, debug=True)"
      ],
      "metadata": {
        "id": "Zsn3_JkDCxiC"
      },
      "execution_count": null,
      "outputs": []
    }
  ]
}